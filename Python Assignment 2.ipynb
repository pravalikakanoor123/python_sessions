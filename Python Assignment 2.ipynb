{
 "cells": [
  {
   "cell_type": "markdown",
   "id": "e7d80dc9",
   "metadata": {},
   "source": [
    "QUESTION 1:"
   ]
  },
  {
   "cell_type": "code",
   "execution_count": 1,
   "id": "a581da8f",
   "metadata": {},
   "outputs": [
    {
     "name": "stdout",
     "output_type": "stream",
     "text": [
      "enter the basic salary:30000\n",
      "ramesh gross salary is 48000.0\n"
     ]
    }
   ],
   "source": [
    "try:\n",
    "    basic_salary=eval(input(\"enter the basic salary:\"))\n",
    "    dearness_allowance=0.4*basic_salary\n",
    "    house_rent_allowance=0.2*basic_salary\n",
    "    gross_salary=basic_salary+dearness_allowance+house_rent_allowance\n",
    "    print(\"ramesh gross salary is\",gross_salary)\n",
    "except exception as e:\n",
    "    print(e)"
   ]
  },
  {
   "cell_type": "markdown",
   "id": "da0d1987",
   "metadata": {},
   "source": [
    "QUESTION 2:"
   ]
  },
  {
   "cell_type": "code",
   "execution_count": 15,
   "id": "b578587d",
   "metadata": {},
   "outputs": [
    {
     "name": "stdout",
     "output_type": "stream",
     "text": [
      "enter the distance between two cities:60\n",
      "distance in meters: 60000\n",
      "distance in feet: 196850.40000000002\n",
      "distance in inches: 2362206.0\n",
      "distance in centimeters: 6000000\n"
     ]
    }
   ],
   "source": [
    " try:\n",
    "    distance_km=eval(input(\"enter the distance between two cities:\"))\n",
    "    distance_meters=distance_km*1000\n",
    "    distance_feet=distance_km*3280.84\n",
    "    distance_inches=distance_km*39370.1\n",
    "    distance_centimeters=distance_km*100000\n",
    "    print(\"distance in meters:\",distance_meters)\n",
    "    print(\"distance in feet:\",distance_feet)\n",
    "    print(\"distance in inches:\",distance_inches)\n",
    "    print(\"distance in centimeters:\",distance_centimeters)\n",
    "except exception as e:\n",
    "    print(e)\n",
    "    "
   ]
  },
  {
   "cell_type": "markdown",
   "id": "a4a9bcd7",
   "metadata": {},
   "source": [
    "QUESTION 3:"
   ]
  },
  {
   "cell_type": "code",
   "execution_count": 16,
   "id": "8837e717",
   "metadata": {},
   "outputs": [
    {
     "name": "stdout",
     "output_type": "stream",
     "text": [
      "enter marks the sub1 (out of 100):90\n",
      "enter marks the sub2 (out of 100):95\n",
      "enter marks the sub3 (out of 100):88\n",
      "enter marks the sub4 (out of 100):85\n",
      "enter marks the sub5 (out of 100):80\n",
      "aggregate marks: 438\n",
      "percentage marks: 87.6\n"
     ]
    }
   ],
   "source": [
    "try:\n",
    "    sub1=eval(input(\"enter marks the sub1 (out of 100):\"))\n",
    "    sub2=eval(input(\"enter marks the sub2 (out of 100):\"))\n",
    "    sub3=eval(input(\"enter marks the sub3 (out of 100):\"))\n",
    "    sub4=eval(input(\"enter marks the sub4 (out of 100):\"))\n",
    "    sub5=eval(input(\"enter marks the sub5 (out of 100):\"))\n",
    "    aggregate_marks=sub1+sub2+sub3+sub4+sub5\n",
    "    max_marks_per_sub=100\n",
    "    total_max_marks=5*max_marks_per_sub\n",
    "    percentage_marks=(aggregate_marks/total_max_marks)*100\n",
    "    print(\"aggregate marks:\",aggregate_marks)\n",
    "    print(\"percentage marks:\",percentage_marks)\n",
    "except exception as e:\n",
    "    print(e)"
   ]
  },
  {
   "cell_type": "markdown",
   "id": "a5ab6421",
   "metadata": {},
   "source": [
    "QUESTION 4:"
   ]
  },
  {
   "cell_type": "code",
   "execution_count": 17,
   "id": "95836691",
   "metadata": {},
   "outputs": [
    {
     "name": "stdout",
     "output_type": "stream",
     "text": [
      "enter the temperature of a city in fahrenheit degree:50\n",
      "temperature in celsius degree is 10.0\n"
     ]
    }
   ],
   "source": [
    "try:\n",
    "    fahrenheit=eval(input(\"enter the temperature of a city in fahrenheit degree:\"))\n",
    "    celsius=((fahrenheit-32)*5)/9\n",
    "    print(\"temperature in celsius degree is\",celsius)\n",
    "except exception as e:\n",
    "    print(e)"
   ]
  },
  {
   "cell_type": "markdown",
   "id": "1a07a84c",
   "metadata": {},
   "source": [
    "QUESTION 5:"
   ]
  },
  {
   "cell_type": "code",
   "execution_count": 23,
   "id": "8f0ad8b6",
   "metadata": {},
   "outputs": [
    {
     "name": "stdout",
     "output_type": "stream",
     "text": [
      "enter the length of the rectangle:6\n",
      "enter the breadth of the rectangle:5\n",
      "enter the radius of the circle:4\n",
      "area of the rectagle: 30\n",
      "area of the perimeter: 60\n",
      "area of the circle: 50.26548245743669\n",
      "circumference of the circle: 25.132741228718345\n"
     ]
    }
   ],
   "source": [
    "try:\n",
    "    length=eval(input(\"enter the length of the rectangle:\"))\n",
    "    breadth=eval(input(\"enter the breadth of the rectangle:\"))\n",
    "    radius=eval(input(\"enter the radius of the circle:\"))\n",
    "    rectangle_area=length*breadth\n",
    "    rectangle_perimeter=2*(length*breadth)\n",
    "    import math\n",
    "    circle_area=math.pi*(radius**2)\n",
    "    circle_circumference=2*math.pi*radius\n",
    "    print(\"area of the rectagle:\",rectangle_area)\n",
    "    print(\"area of the perimeter:\",rectangle_perimeter)\n",
    "    print(\"area of the circle:\",circle_area)\n",
    "    print(\"circumference of the circle:\",circle_circumference)\n",
    "except exception as e:\n",
    "    print(e)"
   ]
  },
  {
   "cell_type": "markdown",
   "id": "075c9a32",
   "metadata": {},
   "source": [
    "QUESTION 6:"
   ]
  },
  {
   "cell_type": "code",
   "execution_count": 25,
   "id": "5e274828",
   "metadata": {},
   "outputs": [
    {
     "name": "stdout",
     "output_type": "stream",
     "text": [
      "enter the val of c:6\n",
      "enter the val of d:8\n",
      "c val of 8 after swapping:\n",
      "d val of 6 after swapping:\n"
     ]
    }
   ],
   "source": [
    "try:\n",
    "    c=eval(input(\"enter the val of c:\"))\n",
    "    d=eval(input(\"enter the val of d:\"))\n",
    "    temp=c\n",
    "    c=d\n",
    "    d=temp\n",
    "    print(\"c val of {} after swapping:\".format(c))\n",
    "    print(\"d val of {} after swapping:\".format(d))\n",
    "except exception as e:\n",
    "    print(e)"
   ]
  },
  {
   "cell_type": "markdown",
   "id": "760f04a6",
   "metadata": {},
   "source": [
    "QUESTION 7:"
   ]
  },
  {
   "cell_type": "code",
   "execution_count": 3,
   "id": "6ca717d4",
   "metadata": {},
   "outputs": [
    {
     "name": "stdout",
     "output_type": "stream",
     "text": [
      "5\n",
      "1234\n"
     ]
    }
   ],
   "source": [
    "num=12345\n",
    "a=num%10\n",
    "a\n",
    "a1=num//10\n",
    "a1\n",
    "print(a)\n",
    "print(a1)"
   ]
  },
  {
   "cell_type": "code",
   "execution_count": 36,
   "id": "a7c47341",
   "metadata": {},
   "outputs": [
    {
     "name": "stdout",
     "output_type": "stream",
     "text": [
      "4\n",
      "123\n"
     ]
    }
   ],
   "source": [
    "b=a1%10\n",
    "b\n",
    "b1=a1//10\n",
    "b1\n",
    "print(b)\n",
    "print(b1)"
   ]
  },
  {
   "cell_type": "code",
   "execution_count": 37,
   "id": "9b65b9a3",
   "metadata": {},
   "outputs": [
    {
     "name": "stdout",
     "output_type": "stream",
     "text": [
      "3\n",
      "12\n"
     ]
    }
   ],
   "source": [
    "c=b1%10\n",
    "c\n",
    "c1=b1//10\n",
    "c1\n",
    "print(c)\n",
    "print(c1)\n",
    "\n"
   ]
  },
  {
   "cell_type": "code",
   "execution_count": 38,
   "id": "10be84e0",
   "metadata": {},
   "outputs": [
    {
     "name": "stdout",
     "output_type": "stream",
     "text": [
      "2\n",
      "1\n"
     ]
    }
   ],
   "source": [
    "d=c1%10\n",
    "d\n",
    "d1=c1//10\n",
    "d1\n",
    "print(d)\n",
    "print(d1)"
   ]
  },
  {
   "cell_type": "code",
   "execution_count": 39,
   "id": "c10f6a35",
   "metadata": {},
   "outputs": [
    {
     "data": {
      "text/plain": [
       "1"
      ]
     },
     "execution_count": 39,
     "metadata": {},
     "output_type": "execute_result"
    }
   ],
   "source": [
    "e=d1%10\n",
    "e"
   ]
  },
  {
   "cell_type": "code",
   "execution_count": 42,
   "id": "ddb491d0",
   "metadata": {},
   "outputs": [
    {
     "name": "stdout",
     "output_type": "stream",
     "text": [
      "the reverse of 12345 is:54321\n"
     ]
    }
   ],
   "source": [
    "print(\"the reverse of {} is:\".format(num),end='')\n",
    "print(\"{}\".format(a),end='')\n",
    "print(\"{}\".format(b),end='')\n",
    "print(\"{}\".format(c),end='')\n",
    "print(\"{}\".format(d),end='')\n",
    "print(\"{}\".format(e))\n"
   ]
  },
  {
   "cell_type": "markdown",
   "id": "b8607548",
   "metadata": {},
   "source": [
    "QUESTION 8:"
   ]
  },
  {
   "cell_type": "code",
   "execution_count": 45,
   "id": "fc77adcb",
   "metadata": {},
   "outputs": [
    {
     "name": "stdout",
     "output_type": "stream",
     "text": [
      "enter the four digits number is:6789\n",
      "6\n",
      "9\n",
      "the sum of first digit 9 and last digit 6 is: 15\n"
     ]
    }
   ],
   "source": [
    "try:\n",
    "    n=eval(input(\"enter the four digits number is:\"))\n",
    "    a=n//1000\n",
    "    b=n%10\n",
    "    print(a)\n",
    "    print(b)\n",
    "    add=a+b\n",
    "    print(\"the sum of first digit {} and last digit {} is: {}\".format(b,a,add))\n",
    "except exception as e:\n",
    "    print(e)"
   ]
  },
  {
   "cell_type": "markdown",
   "id": "372a5671",
   "metadata": {},
   "source": [
    "QUESTION 9:"
   ]
  },
  {
   "cell_type": "code",
   "execution_count": 47,
   "id": "46235ba7",
   "metadata": {},
   "outputs": [
    {
     "name": "stdout",
     "output_type": "stream",
     "text": [
      "total number of illiterate men 13600.0\n",
      "total number of illiterate women 28000.0\n"
     ]
    }
   ],
   "source": [
    "try:\n",
    "    total_popl=80000\n",
    "    percentage_men=52\n",
    "    percentage_literacy=48\n",
    "    percentage_literate_men=35\n",
    "    total_men=(percentage_men/100)*total_popl\n",
    "    total_literate_men=(percentage_literate_men/100)*total_popl\n",
    "    total_literate_women=(percentage_literacy/100)*total_popl\n",
    "    total_illiterate_men=total_men-total_literate_men\n",
    "    total_illiterate_women=total_popl-(total_illiterate_men+total_literate_women)\n",
    "    print(\"total number of illiterate men\",total_illiterate_men)\n",
    "    print(\"total number of illiterate women\",total_illiterate_women)\n",
    "except exception as e:\n",
    "    print(e)\n",
    "    "
   ]
  },
  {
   "cell_type": "markdown",
   "id": "44e4cef8",
   "metadata": {},
   "source": [
    "QUESTION 10:"
   ]
  },
  {
   "cell_type": "code",
   "execution_count": 50,
   "id": "3ee8fb18",
   "metadata": {},
   "outputs": [
    {
     "name": "stdout",
     "output_type": "stream",
     "text": [
      "enter the amount to be withdrawn in hundreds:1000\n",
      "number of 100rs: 1000\n",
      "number of 50rs: 2000\n",
      "number of 10rs: 10000\n"
     ]
    }
   ],
   "source": [
    "try:\n",
    "    amount_in_hundreds=eval(input(\"enter the amount to be withdrawn in hundreds:\"))\n",
    "    number_of_100rs=amount_in_hundreds\n",
    "    number_of_50rs=(amount_in_hundreds*2)\n",
    "    number_of_10rs=(amount_in_hundreds*10)\n",
    "    print(\"number of 100rs:\",number_of_100rs)\n",
    "    print(\"number of 50rs:\",number_of_50rs)\n",
    "    print(\"number of 10rs:\",number_of_10rs)\n",
    "except exception as e:\n",
    "    print(e)\n",
    "    \n",
    "    "
   ]
  },
  {
   "cell_type": "code",
   "execution_count": null,
   "id": "a5a8f7cc",
   "metadata": {},
   "outputs": [],
   "source": []
  }
 ],
 "metadata": {
  "kernelspec": {
   "display_name": "Python 3 (ipykernel)",
   "language": "python",
   "name": "python3"
  },
  "language_info": {
   "codemirror_mode": {
    "name": "ipython",
    "version": 3
   },
   "file_extension": ".py",
   "mimetype": "text/x-python",
   "name": "python",
   "nbconvert_exporter": "python",
   "pygments_lexer": "ipython3",
   "version": "3.11.5"
  }
 },
 "nbformat": 4,
 "nbformat_minor": 5
}
