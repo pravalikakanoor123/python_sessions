{
 "cells": [
  {
   "cell_type": "code",
   "execution_count": 1,
   "id": "47ecd328",
   "metadata": {},
   "outputs": [
    {
     "name": "stdout",
     "output_type": "stream",
     "text": [
      "enter the number:6\n",
      "the square 6 is 36\n"
     ]
    }
   ],
   "source": [
    "number=eval(input(\"enter the number:\"))\n",
    "square=number*number\n",
    "print(\"the square {} is {}\".format(number,square))"
   ]
  },
  {
   "cell_type": "code",
   "execution_count": 3,
   "id": "515d818b",
   "metadata": {},
   "outputs": [
    {
     "name": "stdout",
     "output_type": "stream",
     "text": [
      "enter a number:9\n",
      "9 ---- 18 ---- 27 ---- 36 ---- 45\n"
     ]
    }
   ],
   "source": [
    "x=eval(input(\"enter a number:\"))\n",
    "mul1=1*x\n",
    "mul2=2*x\n",
    "mul3=3*x\n",
    "mul4=4*x\n",
    "mul5=5*x\n",
    "print(mul1,'----',mul2,'----',mul3,'----',mul4,'----',mul5)"
   ]
  },
  {
   "cell_type": "code",
   "execution_count": 4,
   "id": "294edc77",
   "metadata": {},
   "outputs": [
    {
     "name": "stdout",
     "output_type": "stream",
     "text": [
      "enter the value of weight in kg:30\n",
      "66.0\n"
     ]
    }
   ],
   "source": [
    "weight=eval(input(\"enter the value of weight in kg:\"))\n",
    "pounds=2.2*weight\n",
    "print(pounds)"
   ]
  },
  {
   "cell_type": "code",
   "execution_count": 5,
   "id": "c7d1422f",
   "metadata": {},
   "outputs": [
    {
     "name": "stdout",
     "output_type": "stream",
     "text": [
      "enter the val1:10\n",
      "enter the val2:20\n",
      "enter the val3:30\n",
      "the total of the three number is 60\n",
      "the avgof  the three number is 20.0\n"
     ]
    }
   ],
   "source": [
    "val1=eval(input(\"enter the val1:\"))\n",
    "val2=eval(input(\"enter the val2:\"))\n",
    "val3=eval(input(\"enter the val3:\"))\n",
    "total=val1+val2+val3\n",
    "avg=(val1+val2+val3)/3\n",
    "print(\"the total of the three number is\",total)\n",
    "print(\"the avg of  the three number is\",average)\n"
   ]
  },
  {
   "cell_type": "code",
   "execution_count": 6,
   "id": "f65f5601",
   "metadata": {},
   "outputs": [
    {
     "name": "stdout",
     "output_type": "stream",
     "text": [
      "enter the price of meal:150\n",
      "enter the precentage of tip:10\n",
      "15.0\n",
      "2250.0\n"
     ]
    }
   ],
   "source": [
    "a=eval(input(\"enter the price of meal:\"))\n",
    "b=eval(input(\"enter the precentage of tip:\"))\n",
    "c=a*(b/100)\n",
    "print(c)\n",
    "d=a*c\n",
    "print(d)\n"
   ]
  },
  {
   "cell_type": "code",
   "execution_count": null,
   "id": "187b421c",
   "metadata": {},
   "outputs": [],
   "source": []
  },
  {
   "cell_type": "code",
   "execution_count": null,
   "id": "c2c01188",
   "metadata": {},
   "outputs": [],
   "source": []
  },
  {
   "cell_type": "code",
   "execution_count": null,
   "id": "da41173c",
   "metadata": {},
   "outputs": [],
   "source": []
  },
  {
   "cell_type": "code",
   "execution_count": null,
   "id": "5a64aa09",
   "metadata": {},
   "outputs": [],
   "source": []
  },
  {
   "cell_type": "code",
   "execution_count": null,
   "id": "9ccd06e5",
   "metadata": {},
   "outputs": [],
   "source": []
  },
  {
   "cell_type": "code",
   "execution_count": null,
   "id": "87cdf8db",
   "metadata": {},
   "outputs": [],
   "source": []
  }
 ],
 "metadata": {
  "kernelspec": {
   "display_name": "Python 3 (ipykernel)",
   "language": "python",
   "name": "python3"
  },
  "language_info": {
   "codemirror_mode": {
    "name": "ipython",
    "version": 3
   },
   "file_extension": ".py",
   "mimetype": "text/x-python",
   "name": "python",
   "nbconvert_exporter": "python",
   "pygments_lexer": "ipython3",
   "version": "3.11.5"
  }
 },
 "nbformat": 4,
 "nbformat_minor": 5
}
