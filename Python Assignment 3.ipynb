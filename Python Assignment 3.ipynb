{
 "cells": [
  {
   "cell_type": "code",
   "execution_count": 1,
   "id": "47ecd328",
   "metadata": {},
   "outputs": [
    {
     "name": "stdout",
     "output_type": "stream",
     "text": [
      "enter the number:6\n",
      "the square 6 is 36\n"
     ]
    }
   ],
   "source": [
    "try:\n",
    "    number=eval(input(\"enter the number:\"))\n",
    "    square=number*number\n",
    "    print(\"the square {} is {}\".format(number,square))\n",
    "except exepection as e:\n",
    "    print(e)"
   ]
  },
  {
   "cell_type": "markdown",
   "id": "72dbce24",
   "metadata": {},
   "source": [
    "QUESTION 2:"
   ]
  },
  {
   "cell_type": "code",
   "execution_count": 4,
   "id": "1b995369",
   "metadata": {},
   "outputs": [
    {
     "name": "stdout",
     "output_type": "stream",
     "text": [
      "enter a number:8\n",
      "8 ---- 16 ---- 24 ---- 32 ---- 40\n"
     ]
    }
   ],
   "source": [
    "try:\n",
    "    x=eval(input(\"enter a number:\"))\n",
    "    mul1=1*x\n",
    "    mul2=2*x\n",
    "    mul3=3*x\n",
    "    mul4=4*x\n",
    "    mul5=5*x\n",
    "    print(mul1,'----',mul2,'----',mul3,'----',mul4,'----',mul5)\n",
    "except exepection as e:\n",
    "    print(e)"
   ]
  },
  {
   "cell_type": "markdown",
   "id": "428c3e94",
   "metadata": {},
   "source": [
    "QUESTION 3:"
   ]
  },
  {
   "cell_type": "code",
   "execution_count": 3,
   "id": "3c5ae274",
   "metadata": {},
   "outputs": [
    {
     "name": "stdout",
     "output_type": "stream",
     "text": [
      "enter the value of weight in kg:7\n",
      "15.400000000000002\n"
     ]
    }
   ],
   "source": [
    "try:\n",
    "    weight=eval(input(\"enter the value of weight in kg:\"))\n",
    "    pounds=2.2*weight\n",
    "    print(pounds)\n",
    "except exepetion as e:\n",
    "    print(e)"
   ]
  },
  {
   "cell_type": "markdown",
   "id": "98f1393c",
   "metadata": {},
   "source": [
    "QUESTION 4:"
   ]
  },
  {
   "cell_type": "code",
   "execution_count": 5,
   "id": "c7d1422f",
   "metadata": {},
   "outputs": [
    {
     "name": "stdout",
     "output_type": "stream",
     "text": [
      "enter the val1:10\n",
      "enter the val2:20\n",
      "enter the val3:30\n",
      "the total of the three number is 60\n",
      "the avgof  the three number is 20.0\n"
     ]
    }
   ],
   "source": [
    "try:\n",
    "    val1=eval(input(\"enter the val1:\"))\n",
    "    val2=eval(input(\"enter the val2:\"))\n",
    "    val3=eval(input(\"enter the val3:\"))\n",
    "    total=val1+val2+val3\n",
    "    avg=(val1+val2+val3)/3\n",
    "    print(\"the total of the three number is\",total)\n",
    "    print(\"the avgof  the three number is\",avg)\n",
    "except exepetion as e:\n",
    "    print(e)\n"
   ]
  },
  {
   "cell_type": "markdown",
   "id": "ba784b9d",
   "metadata": {},
   "source": [
    "QUESTION 5:"
   ]
  },
  {
   "cell_type": "code",
   "execution_count": 6,
   "id": "f65f5601",
   "metadata": {},
   "outputs": [
    {
     "name": "stdout",
     "output_type": "stream",
     "text": [
      "enter the price of meal:150\n",
      "enter the precentage of tip:10\n",
      "15.0\n",
      "2250.0\n"
     ]
    }
   ],
   "source": [
    "try:\n",
    "    a=eval(input(\"enter the price of meal:\"))\n",
    "    b=eval(input(\"enter the precentage of tip:\"))\n",
    "    c=a*(b/100)\n",
    "    print(c)\n",
    "    d=a*c\n",
    "    print(d)\n",
    "except exepetion as e:\n",
    "    print(e)"
   ]
  },
  {
   "cell_type": "markdown",
   "id": "d5b8c7d9",
   "metadata": {},
   "source": [
    "QUESTION 6:"
   ]
  },
  {
   "cell_type": "code",
   "execution_count": 1,
   "id": "3483c3ea",
   "metadata": {},
   "outputs": [
    {
     "name": "stdout",
     "output_type": "stream",
     "text": [
      "enter the basic salary:30000\n",
      "ramesh gross salary is 48000.0\n"
     ]
    }
   ],
   "source": [
    "try:\n",
    "    basic_salary=eval(input(\"enter the basic salary:\"))\n",
    "    dearness_allowance=0.4*basic_salary\n",
    "    house_rent_allowance=0.2*basic_salary\n",
    "    gross_salary=basic_salary+dearness_allowance+house_rent_allowance\n",
    "    print(\"ramesh gross salary is\",gross_salary)\n",
    "except exception as e:\n",
    "    print(e)"
   ]
  },
  {
   "cell_type": "markdown",
   "id": "4e10ea4c",
   "metadata": {},
   "source": [
    "QUESTION 7:"
   ]
  },
  {
   "cell_type": "code",
   "execution_count": 2,
   "id": "7412cb6f",
   "metadata": {},
   "outputs": [
    {
     "name": "stdout",
     "output_type": "stream",
     "text": [
      "enter the distance between two cities:60\n",
      "distance in meters: 60000\n",
      "distance in feet: 196850.40000000002\n",
      "distance in inches: 2362206.0\n",
      "distance in centimeters: 6000000\n"
     ]
    }
   ],
   "source": [
    "try:\n",
    "    distance_km=eval(input(\"enter the distance between two cities:\"))\n",
    "    distance_meters=distance_km*1000\n",
    "    distance_feet=distance_km*3280.84\n",
    "    distance_inches=distance_km*39370.1\n",
    "    distance_centimeters=distance_km*100000\n",
    "    print(\"distance in meters:\",distance_meters)\n",
    "    print(\"distance in feet:\",distance_feet)\n",
    "    print(\"distance in inches:\",distance_inches)\n",
    "    print(\"distance in centimeters:\",distance_centimeters)\n",
    "except exception as e:\n",
    "    print(e)\n",
    "    "
   ]
  },
  {
   "cell_type": "markdown",
   "id": "cddca32b",
   "metadata": {},
   "source": [
    "QUESTION 8:"
   ]
  },
  {
   "cell_type": "code",
   "execution_count": 3,
   "id": "bdd9ce67",
   "metadata": {},
   "outputs": [
    {
     "name": "stdout",
     "output_type": "stream",
     "text": [
      "enter marks the sub1 (out of 100):90\n",
      "enter marks the sub2 (out of 100):95\n",
      "enter marks the sub3 (out of 100):88\n",
      "enter marks the sub4 (out of 100):85\n",
      "enter marks the sub5 (out of 100):80\n",
      "aggregate marks: 438\n",
      "percentage marks: 87.6\n"
     ]
    }
   ],
   "source": [
    "try:\n",
    "    sub1=eval(input(\"enter marks the sub1 (out of 100):\"))\n",
    "    sub2=eval(input(\"enter marks the sub2 (out of 100):\"))\n",
    "    sub3=eval(input(\"enter marks the sub3 (out of 100):\"))\n",
    "    sub4=eval(input(\"enter marks the sub4 (out of 100):\"))\n",
    "    sub5=eval(input(\"enter marks the sub5 (out of 100):\"))\n",
    "    aggregate_marks=sub1+sub2+sub3+sub4+sub5\n",
    "    max_marks_per_sub=100\n",
    "    total_max_marks=5*max_marks_per_sub\n",
    "    percentage_marks=(aggregate_marks/total_max_marks)*100\n",
    "    print(\"aggregate marks:\",aggregate_marks)\n",
    "    print(\"percentage marks:\",percentage_marks)\n",
    "except exception as e:\n",
    "    print(e)"
   ]
  },
  {
   "cell_type": "markdown",
   "id": "8432caa1",
   "metadata": {},
   "source": [
    "QUESTION 9:"
   ]
  },
  {
   "cell_type": "code",
   "execution_count": 4,
   "id": "91b0c4cc",
   "metadata": {},
   "outputs": [
    {
     "name": "stdout",
     "output_type": "stream",
     "text": [
      "enter the temperature of a city in fahrenheit degree:50\n",
      "temperature in celsius degree is 10.0\n"
     ]
    }
   ],
   "source": [
    "try:\n",
    "    fahrenheit=eval(input(\"enter the temperature of a city in fahrenheit degree:\"))\n",
    "    celsius=((fahrenheit-32)*5)/9\n",
    "    print(\"temperature in celsius degree is\",celsius)\n",
    "except exception as e:\n",
    "    print(e)"
   ]
  },
  {
   "cell_type": "markdown",
   "id": "991ab08c",
   "metadata": {},
   "source": [
    "QUESTION 10:"
   ]
  },
  {
   "cell_type": "code",
   "execution_count": null,
   "id": "e5c10c00",
   "metadata": {},
   "outputs": [],
   "source": [
    "try:\n",
    "    length=eval(input(\"enter the length of the rectangle:\"))\n",
    "    breadth=eval(input(\"enter the breadth of the rectangle:\"))\n",
    "    radius=eval(input(\"enter the radius of the circle:\"))\n",
    "    rectangle_area=length*breadth\n",
    "    rectangle_perimeter=2*(length*breadth)\n",
    "    import math\n",
    "    circle_area=math.pi*(radius**2)\n",
    "    circle_circumference=2*math.pi*radius\n",
    "    print(\"area of the rectagle:\",rectangle_area)\n",
    "    print(\"area of the perimeter:\",rectangle_perimeter)\n",
    "    print(\"area of the circle:\",circle_area)\n",
    "    print(\"circumference of the circle:\",circle_circumference)\n",
    "except exception as e:\n",
    "    print(e)"
   ]
  },
  {
   "cell_type": "markdown",
   "id": "59ba3aed",
   "metadata": {},
   "source": [
    "QUESTION 11:"
   ]
  },
  {
   "cell_type": "code",
   "execution_count": 6,
   "id": "c2c01188",
   "metadata": {},
   "outputs": [
    {
     "name": "stdout",
     "output_type": "stream",
     "text": [
      "enter the val of c:6\n",
      "enter the val of d:8\n",
      "c val of 8 after swapping:\n",
      "d val of 6 after swapping:\n"
     ]
    }
   ],
   "source": [
    "try:\n",
    "    c=eval(input(\"enter the val of c:\"))\n",
    "    d=eval(input(\"enter the val of d:\"))\n",
    "    temp=c\n",
    "    c=d\n",
    "    d=temp\n",
    "    print(\"c val of {} after swapping:\".format(c))\n",
    "    print(\"d val of {} after swapping:\".format(d))\n",
    "except exception as e:\n",
    "    print(e)"
   ]
  },
  {
   "cell_type": "markdown",
   "id": "1257f302",
   "metadata": {},
   "source": [
    "QUESTION 12:"
   ]
  },
  {
   "cell_type": "code",
   "execution_count": 7,
   "id": "5a64aa09",
   "metadata": {},
   "outputs": [
    {
     "name": "stdout",
     "output_type": "stream",
     "text": [
      "5\n",
      "1234\n"
     ]
    }
   ],
   "source": [
    "num=12345\n",
    "a=num%10\n",
    "a\n",
    "a1=num//10\n",
    "a1\n",
    "print(a)\n",
    "print(a1)"
   ]
  },
  {
   "cell_type": "code",
   "execution_count": 8,
   "id": "9ccd06e5",
   "metadata": {},
   "outputs": [
    {
     "name": "stdout",
     "output_type": "stream",
     "text": [
      "4\n",
      "123\n"
     ]
    }
   ],
   "source": [
    "b=a1%10\n",
    "b\n",
    "b1=a1//10\n",
    "b1\n",
    "print(b)\n",
    "print(b1)"
   ]
  },
  {
   "cell_type": "code",
   "execution_count": 9,
   "id": "64a761ef",
   "metadata": {},
   "outputs": [
    {
     "name": "stdout",
     "output_type": "stream",
     "text": [
      "3\n",
      "12\n"
     ]
    }
   ],
   "source": [
    "c=b1%10\n",
    "c\n",
    "c1=b1//10\n",
    "c1\n",
    "print(c)\n",
    "print(c1)\n"
   ]
  },
  {
   "cell_type": "code",
   "execution_count": 10,
   "id": "f8ffc600",
   "metadata": {},
   "outputs": [
    {
     "name": "stdout",
     "output_type": "stream",
     "text": [
      "2\n",
      "1\n"
     ]
    }
   ],
   "source": [
    "d=c1%10\n",
    "d\n",
    "d1=c1//10\n",
    "d1\n",
    "print(d)\n",
    "print(d1)"
   ]
  },
  {
   "cell_type": "code",
   "execution_count": 11,
   "id": "6eecbd75",
   "metadata": {},
   "outputs": [
    {
     "data": {
      "text/plain": [
       "1"
      ]
     },
     "execution_count": 11,
     "metadata": {},
     "output_type": "execute_result"
    }
   ],
   "source": [
    "e=d1%10\n",
    "e"
   ]
  },
  {
   "cell_type": "code",
   "execution_count": 12,
   "id": "74bbeb85",
   "metadata": {},
   "outputs": [
    {
     "name": "stdout",
     "output_type": "stream",
     "text": [
      "the reverse of 12345 is:54321\n"
     ]
    }
   ],
   "source": [
    "print(\"the reverse of {} is:\".format(num),end='')\n",
    "print(\"{}\".format(a),end='')\n",
    "print(\"{}\".format(b),end='')\n",
    "print(\"{}\".format(c),end='')\n",
    "print(\"{}\".format(d),end='')\n",
    "print(\"{}\".format(e))\n"
   ]
  },
  {
   "cell_type": "markdown",
   "id": "a1678816",
   "metadata": {},
   "source": [
    "QUESTION 13:"
   ]
  },
  {
   "cell_type": "code",
   "execution_count": null,
   "id": "5896fcad",
   "metadata": {},
   "outputs": [],
   "source": [
    "try:\n",
    "    n=eval(input(\"enter the four digits number is:\"))\n",
    "    a=n//1000\n",
    "    b=n%10\n",
    "    print(a)\n",
    "    print(b)\n",
    "    add=a+b\n",
    "    print(\"the sum of first digit {} and last digit {} is: {}\".format(b,a,add))\n",
    "except exception as e:\n",
    "    print(e)"
   ]
  },
  {
   "cell_type": "markdown",
   "id": "65410703",
   "metadata": {},
   "source": [
    "QUESTION 14:"
   ]
  },
  {
   "cell_type": "code",
   "execution_count": 14,
   "id": "173f3e24",
   "metadata": {},
   "outputs": [
    {
     "name": "stdout",
     "output_type": "stream",
     "text": [
      "total number of illiterate men 13600.0\n",
      "total number of illiterate women 28000.0\n"
     ]
    }
   ],
   "source": [
    "try:\n",
    "    total_popl=80000\n",
    "    percentage_men=52\n",
    "    percentage_literacy=48\n",
    "    percentage_literate_men=35\n",
    "    total_men=(percentage_men/100)*total_popl\n",
    "    total_literate_men=(percentage_literate_men/100)*total_popl\n",
    "    total_literate_women=(percentage_literacy/100)*total_popl\n",
    "    total_illiterate_men=total_men-total_literate_men\n",
    "    total_illiterate_women=total_popl-(total_illiterate_men+total_literate_women)\n",
    "    print(\"total number of illiterate men\",total_illiterate_men)\n",
    "    print(\"total number of illiterate women\",total_illiterate_women)\n",
    "except exception as e:\n",
    "    print(e)"
   ]
  },
  {
   "cell_type": "markdown",
   "id": "2629db7a",
   "metadata": {},
   "source": [
    "QUESTION 15:"
   ]
  },
  {
   "cell_type": "code",
   "execution_count": 15,
   "id": "1ced6519",
   "metadata": {},
   "outputs": [
    {
     "name": "stdout",
     "output_type": "stream",
     "text": [
      "enter the amount to be withdrawn in hundreds:1000\n",
      "number of 100rs: 1000\n",
      "number of 50rs: 2000\n",
      "number of 10rs: 10000\n"
     ]
    }
   ],
   "source": [
    "try:\n",
    "    amount_in_hundreds=eval(input(\"enter the amount to be withdrawn in hundreds:\"))\n",
    "    number_of_100rs=amount_in_hundreds\n",
    "    number_of_50rs=(amount_in_hundreds*2)\n",
    "    number_of_10rs=(amount_in_hundreds*10)\n",
    "    print(\"number of 100rs:\",number_of_100rs)\n",
    "    print(\"number of 50rs:\",number_of_50rs)\n",
    "    print(\"number of 10rs:\",number_of_10rs)\n",
    "except exception as e:\n",
    "    print(e)"
   ]
  },
  {
   "cell_type": "code",
   "execution_count": null,
   "id": "ee1d5a1e",
   "metadata": {},
   "outputs": [],
   "source": []
  },
  {
   "cell_type": "code",
   "execution_count": null,
   "id": "87cdf8db",
   "metadata": {},
   "outputs": [],
   "source": []
  }
 ],
 "metadata": {
  "kernelspec": {
   "display_name": "Python 3 (ipykernel)",
   "language": "python",
   "name": "python3"
  },
  "language_info": {
   "codemirror_mode": {
    "name": "ipython",
    "version": 3
   },
   "file_extension": ".py",
   "mimetype": "text/x-python",
   "name": "python",
   "nbconvert_exporter": "python",
   "pygments_lexer": "ipython3",
   "version": "3.11.5"
  }
 },
 "nbformat": 4,
 "nbformat_minor": 5
}
